{
 "cells": [
  {
   "cell_type": "code",
   "execution_count": 7,
   "id": "6da01135",
   "metadata": {},
   "outputs": [
    {
     "name": "stdout",
     "output_type": "stream",
     "text": [
      "Karan\n",
      "Karan\n",
      "blue\n",
      "mercedes\n"
     ]
    }
   ],
   "source": [
    "#class is a blueprint for creating objects.\n",
    "class Student:\n",
    "    name = \"Karan\"\n",
    "    \n",
    "s1 = Student()\n",
    "print(s1.name)\n",
    "\n",
    "s2 = Student()\n",
    "print(s2.name)\n",
    "\n",
    "class Car:\n",
    "    color = \"blue\"\n",
    "    brand = \"mercedes\"\n",
    "\n",
    "car1 = Car()\n",
    "print(car1.color)\n",
    "print(car1.brand)\n",
    "    "
   ]
  },
  {
   "cell_type": "code",
   "execution_count": null,
   "id": "f06f9190",
   "metadata": {},
   "outputs": [
    {
     "name": "stdout",
     "output_type": "stream",
     "text": [
      "DDing new student in database..\n",
      "Karan 97\n",
      "DDing new student in database..\n",
      "Jhanvi 97\n",
      "ABC College\n"
     ]
    }
   ],
   "source": [
    "#All classes function called __init__,which always executed when the class is being initiated.\n",
    "class Student:\n",
    "    college_name = \"ABC College\" #class attribute\n",
    "    #default constructors\n",
    "    def __init__(self):\n",
    "        pass\n",
    "    #Parameterised constructor\n",
    "    def __init__(self,fullname,marks):\n",
    "        self.name = fullname #object attribute\n",
    "        self.marks = marks\n",
    "        print(\"DDing new student in database..\")\n",
    "    \n",
    "    \n",
    "s1 = Student(\"Karan\",97)\n",
    "print(s1.name,s1.marks)\n",
    "\n",
    "s2 = Student(\"Jhanvi\",81)\n",
    "print(s2.name,s1.marks)\n",
    "print(s2.college_name)"
   ]
  },
  {
   "cell_type": "code",
   "execution_count": 22,
   "id": "a741ba43",
   "metadata": {},
   "outputs": [
    {
     "name": "stdout",
     "output_type": "stream",
     "text": [
      "DDing new student in database..\n",
      "Karan 97\n",
      "welcome student Karan\n",
      "None\n",
      "DDing new student in database..\n",
      "Jhanvi 97\n",
      "ABC College\n"
     ]
    }
   ],
   "source": [
    "#Method - They are functions belonging to  object\n",
    "class Student:\n",
    "    college_name = \"ABC College\" \n",
    "    #default constructor\n",
    "    def __init__(self):\n",
    "        pass\n",
    "    #Parameterised constructor\n",
    "    def __init__(self,fullname,marks):\n",
    "        self.name = fullname \n",
    "        self.marks = marks\n",
    "        print(\"DDing new student in database..\")\n",
    "        \n",
    "    def welcome(self):\n",
    "        print(\"welcome student\",self.name)\n",
    "    \n",
    "    \n",
    "s1 = Student(\"Karan\",97)\n",
    "print(s1.name,s1.marks)\n",
    "print(s1.welcome())\n",
    "\n",
    "s2 = Student(\"Jhanvi\",81)\n",
    "print(s2.name,s1.marks)\n",
    "print(s2.college_name)"
   ]
  },
  {
   "cell_type": "code",
   "execution_count": 36,
   "id": "2f7f95ad",
   "metadata": {},
   "outputs": [
    {
     "name": "stdout",
     "output_type": "stream",
     "text": [
      "hi Jhanvi your avg score: 96.0\n",
      "Hello\n"
     ]
    }
   ],
   "source": [
    "class Student:\n",
    "    def __init__(self, name, marks):\n",
    "        self.name = name\n",
    "        self.marks = marks\n",
    "    @staticmethod\n",
    "    def college():\n",
    "        print(\"Hello\")\n",
    "    \n",
    "    def get_avg(self):\n",
    "        sum = 0\n",
    "        for val in self.marks:\n",
    "            sum += val\n",
    "        print(\"hi\", self.name,\"your avg score:\",sum/3)\n",
    "\n",
    "s1 = Student(\"Jhanvi\",[93, 97, 98])\n",
    "s1.get_avg()\n",
    "s1.college()\n",
    "        "
   ]
  },
  {
   "cell_type": "code",
   "execution_count": 38,
   "id": "ca5b7da5",
   "metadata": {},
   "outputs": [
    {
     "name": "stdout",
     "output_type": "stream",
     "text": [
      "Car started...\n"
     ]
    }
   ],
   "source": [
    "#Abstraction\n",
    "class Car:\n",
    "    def __int__(self):\n",
    "        self.acc = False\n",
    "        self.brk = False\n",
    "        self.clutch = False\n",
    "        \n",
    "    def start(self):\n",
    "        self.clutch = True\n",
    "        self.acc = True\n",
    "        print(\"Car started...\")\n",
    "\n",
    "car1 = Car()\n",
    "car1.start()"
   ]
  },
  {
   "cell_type": "code",
   "execution_count": 42,
   "id": "d72b0e59",
   "metadata": {},
   "outputs": [
    {
     "name": "stdout",
     "output_type": "stream",
     "text": [
      "Rs. 1000 was detected\n",
      "Rs. 500 was credited\n",
      "total balance =  9500\n",
      "Rs. 40000 was credited\n",
      "total balance =  49500\n",
      "Rs. 40000 was detected\n"
     ]
    }
   ],
   "source": [
    "#exercise\n",
    "class Account:\n",
    "    def __init__(self,bal,acc):\n",
    "        self.balance = bal\n",
    "        self.account_no = acc\n",
    "        \n",
    "    #debit method\n",
    "    def debit(self, amount):\n",
    "        self.balance -= amount\n",
    "        print(\"Rs.\", amount, \"was detected\")\n",
    "        \n",
    "    #credit method\n",
    "    def credit(self, amount):\n",
    "        self.balance += amount\n",
    "        print(\"Rs.\", amount, \"was credited\")\n",
    "        print(\"total balance = \", self.get_balance())\n",
    "        \n",
    "    #get balance\n",
    "    def get_balance(self):\n",
    "        return self.balance \n",
    "\n",
    "acc1 = Account(10000, 12345)\n",
    "acc1.debit(1000)\n",
    "acc1.credit(500)\n",
    "acc1.credit(40000)\n",
    "acc1.debit(40000)"
   ]
  },
  {
   "cell_type": "code",
   "execution_count": null,
   "id": "b0fb07df",
   "metadata": {},
   "outputs": [
    {
     "ename": "TypeError",
     "evalue": "Student() takes no arguments",
     "output_type": "error",
     "traceback": [
      "\u001b[1;31m---------------------------------------------------------------------------\u001b[0m",
      "\u001b[1;31mTypeError\u001b[0m                                 Traceback (most recent call last)",
      "Cell \u001b[1;32mIn[43], line 5\u001b[0m\n\u001b[0;32m      2\u001b[0m     \u001b[38;5;28;01mdef\u001b[39;00m \u001b[38;5;21m__init\u001b[39m(\u001b[38;5;28mself\u001b[39m,name):\n\u001b[0;32m      3\u001b[0m         \u001b[38;5;28mself\u001b[39m\u001b[38;5;241m.\u001b[39mname \u001b[38;5;241m=\u001b[39m name\n\u001b[1;32m----> 5\u001b[0m s1 \u001b[38;5;241m=\u001b[39m \u001b[43mStudent\u001b[49m\u001b[43m(\u001b[49m\u001b[38;5;124;43m\"\u001b[39;49m\u001b[38;5;124;43mJhanvi\u001b[39;49m\u001b[38;5;124;43m\"\u001b[39;49m\u001b[43m)\u001b[49m\n\u001b[0;32m      6\u001b[0m \u001b[38;5;28;01mdel\u001b[39;00m s1\n\u001b[0;32m      7\u001b[0m \u001b[38;5;28mprint\u001b[39m(s1)\n",
      "\u001b[1;31mTypeError\u001b[0m: Student() takes no arguments"
     ]
    }
   ],
   "source": [
    "#Delete keyword\n",
    "class Student:\n",
    "    def __init(self,name):\n",
    "        self.name = name\n",
    "        \n",
    "s1 = Student(\"Jhanvi\")\n",
    "del s1\n",
    "print(s1)"
   ]
  },
  {
   "cell_type": "code",
   "execution_count": null,
   "id": "3340aa42",
   "metadata": {},
   "outputs": [
    {
     "name": "stdout",
     "output_type": "stream",
     "text": [
      "hello person\n",
      "None\n"
     ]
    }
   ],
   "source": [
    "#using double underscore to make things private\n",
    "#this are used within the class not outside the class\n",
    "class Person:\n",
    "    __name = \"anonymous\"\n",
    "    def __hello(self):\n",
    "        print(\"hello person\")\n",
    "        \n",
    "    def welcome(self):\n",
    "        self.__hello()\n",
    "p1 = Person()\n",
    "#print(p1.__name)\n",
    "print(p1.welcome())"
   ]
  },
  {
   "cell_type": "code",
   "execution_count": 49,
   "id": "a7a3e47e",
   "metadata": {},
   "outputs": [
    {
     "name": "stdout",
     "output_type": "stream",
     "text": [
      "car started\n",
      "None\n"
     ]
    }
   ],
   "source": [
    "#Inheritance\n",
    "class Car:\n",
    "    color = \"black\"\n",
    "    @staticmethod\n",
    "    def start():\n",
    "        print(\"car started\")\n",
    "        \n",
    "    @staticmethod\n",
    "    def stop():\n",
    "        print(\"Car stooped\")\n",
    "\n",
    "class ToyotaCar(Car):\n",
    "    def __init__(self, name):\n",
    "        self.name = name\n",
    "\n",
    "car1 = ToyotaCar(\"Fortuner\")\n",
    "car2 = ToyotaCar(\"prius\")\n",
    "\n",
    "print(car1.start())"
   ]
  },
  {
   "cell_type": "code",
   "execution_count": 51,
   "id": "4c7bf340",
   "metadata": {},
   "outputs": [
    {
     "name": "stdout",
     "output_type": "stream",
     "text": [
      "car started\n"
     ]
    }
   ],
   "source": [
    "#multilevel inheritance\n",
    "class Car:\n",
    "    color = \"black\"\n",
    "    @staticmethod\n",
    "    def start():\n",
    "        print(\"car started\")\n",
    "        \n",
    "    @staticmethod\n",
    "    def stop():\n",
    "        print(\"Car stooped\")\n",
    "\n",
    "class ToyotaCar(Car):\n",
    "    def __init__(self, name):\n",
    "        self.name = name\n",
    "\n",
    "class Fortuner(ToyotaCar):\n",
    "    def __init__(self, type):\n",
    "        self.type = type\n",
    "        \n",
    "car1 = Fortuner(\"diesel\")\n",
    "car1.start()"
   ]
  },
  {
   "cell_type": "code",
   "execution_count": 54,
   "id": "f2c1faf5",
   "metadata": {},
   "outputs": [
    {
     "name": "stdout",
     "output_type": "stream",
     "text": [
      "Welcome to class C\n",
      "welcome to class B\n",
      "Welcome to class A\n"
     ]
    }
   ],
   "source": [
    "#multiple inheritance\n",
    "class A:\n",
    "    varA = \"Welcome to class A\"\n",
    "\n",
    "class B:\n",
    "    varB = \"welcome to class B\"\n",
    "    \n",
    "class C(A, B):\n",
    "    varC = \"Welcome to class C\"\n",
    "\n",
    "c1 = C()\n",
    "\n",
    "print(c1.varC)\n",
    "print(c1.varB)\n",
    "print(c1.varA)"
   ]
  },
  {
   "cell_type": "code",
   "execution_count": 56,
   "id": "1ea2a242",
   "metadata": {},
   "outputs": [
    {
     "name": "stdout",
     "output_type": "stream",
     "text": [
      "car started\n",
      "electric\n"
     ]
    }
   ],
   "source": [
    "#Super Method\n",
    "class Car:\n",
    "    def __init__(self,type):\n",
    "        self.type = type\n",
    "    @staticmethod\n",
    "    def start():\n",
    "        print(\"car started\")\n",
    "        \n",
    "    @staticmethod\n",
    "    def stop():\n",
    "        print(\"Car stooped\")\n",
    "\n",
    "class ToyotaCar(Car):\n",
    "    def __init__(self, name,type):\n",
    "        self.brand = name\n",
    "        self.type = type\n",
    "        super().__init__(type) #super method\n",
    "        super().start()\n",
    "car1 = ToyotaCar(\"prius\",\"electric\")\n",
    "print(car1.type)\n",
    "\n",
    "        "
   ]
  },
  {
   "cell_type": "code",
   "execution_count": 57,
   "id": "4f2dbc51",
   "metadata": {},
   "outputs": [
    {
     "name": "stdout",
     "output_type": "stream",
     "text": [
      "Jhanvi Reddy\n",
      "Jhanvi Reddy\n"
     ]
    }
   ],
   "source": [
    "#Class Method\n",
    "class Person:\n",
    "    name = \"anonymous\"\n",
    "    \n",
    "    @classmethod\n",
    "    def changeName(cls, name):\n",
    "        cls.name = name\n",
    "        \n",
    "p1 = Person()\n",
    "p1.changeName(\"Jhanvi Reddy\")\n",
    "print(p1.name)\n",
    "print(Person.name)"
   ]
  }
 ],
 "metadata": {
  "kernelspec": {
   "display_name": "base",
   "language": "python",
   "name": "python3"
  },
  "language_info": {
   "codemirror_mode": {
    "name": "ipython",
    "version": 3
   },
   "file_extension": ".py",
   "mimetype": "text/x-python",
   "name": "python",
   "nbconvert_exporter": "python",
   "pygments_lexer": "ipython3",
   "version": "3.12.7"
  }
 },
 "nbformat": 4,
 "nbformat_minor": 5
}
