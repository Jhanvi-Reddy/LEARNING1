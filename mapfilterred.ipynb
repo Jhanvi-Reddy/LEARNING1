{
 "cells": [
  {
   "cell_type": "code",
   "execution_count": 2,
   "id": "272956a0",
   "metadata": {},
   "outputs": [
    {
     "name": "stdout",
     "output_type": "stream",
     "text": [
      "[1, 8, 27, 64, 125, 216, 343]\n",
      "[2, 4, 6, 8, 10]\n"
     ]
    }
   ],
   "source": [
    "#map-The map() function in Python is a built-in function that allows you to apply a function to each item in an iterable (like a list, tuple, etc.) and return a new iterable (map object) with the results.\n",
    "def cube(x):\n",
    "    return x * x * x\n",
    "\n",
    "l = [1,2,3,4,5,6,7]\n",
    "\n",
    "newl = list(map(cube,l))\n",
    "print(newl)\n",
    "\n",
    "\n",
    "#example 2 -\n",
    "numbers = [1,2,3,4,5]\n",
    "\n",
    "doubled = map(lambda x: x * 2, numbers)\n",
    "\n",
    "print(list(doubled))"
   ]
  },
  {
   "cell_type": "code",
   "execution_count": null,
   "id": "a5e3f645",
   "metadata": {},
   "outputs": [
    {
     "name": "stdout",
     "output_type": "stream",
     "text": [
      "[5, 6, 7, 8]\n",
      "[2, 4, 6]\n",
      "[4, 5, 6]\n"
     ]
    }
   ],
   "source": [
    "#filter\n",
    "l = [1,2,3,4,5,6,7,8]\n",
    "def filter_function(a):\n",
    "    return a > 4\n",
    "\n",
    "newl = filter(filter_function,l)\n",
    "print(list(newl))\n",
    "\n",
    "#example 2:\n",
    "def is_even(n):\n",
    "    return n % 2 == 0\n",
    "\n",
    "numbers = [1, 2, 3, 4, 5, 6]\n",
    "result = filter(is_even, numbers)\n",
    "\n",
    "print(list(result))\n",
    "# Output: [2, 4, 6]\n",
    "\n",
    "#Using filter() with lambda\n",
    "\n",
    "numbers = [1, 2, 3, 4, 5, 6]\n",
    "result = filter(lambda x: x > 3, numbers)\n",
    "\n",
    "print(list(result))\n",
    "\n",
    "#3: Filtering out empty strings\n",
    "\n",
    "words = [\"apple\", \"\", \"banana\", \"\", \"cherry\"]\n",
    "non_empty = filter(None, words)\n",
    "\n",
    "print(list(non_empty))\n",
    "# Output: ['apple', 'banana', 'cherry']"
   ]
  },
  {
   "cell_type": "code",
   "execution_count": 11,
   "id": "dcb83ada",
   "metadata": {},
   "outputs": [
    {
     "name": "stdout",
     "output_type": "stream",
     "text": [
      "15\n",
      "10\n",
      "24\n",
      "20\n"
     ]
    }
   ],
   "source": [
    "#reduce\n",
    "from functools import reduce\n",
    "\n",
    "numbers = [1,2,3,4,5]\n",
    "\n",
    "sum = reduce(lambda x, y: x+y, numbers)\n",
    "\n",
    "print(sum)\n",
    "\n",
    "#other way\n",
    "reduce(lambda x, y: x + y, [1, 2, 3, 4])\n",
    "\n",
    "# Example 1: Sum of a list\n",
    "\n",
    "from functools import reduce\n",
    "\n",
    "numbers = [1, 2, 3, 4]\n",
    "result = reduce(lambda x, y: x + y, numbers)\n",
    "\n",
    "print(result)\n",
    "# Output: 10\n",
    "\n",
    "#Product of all elements\n",
    "from functools import reduce\n",
    "\n",
    "numbers = [1, 2, 3, 4]\n",
    "result = reduce(lambda x, y: x * y, numbers)\n",
    "\n",
    "print(result)\n",
    "# Output: 24\n",
    "\n",
    "#With initializer\n",
    "from functools import reduce\n",
    "\n",
    "nums = [1, 2, 3, 4]\n",
    "result = reduce(lambda x, y: x + y, nums, 10)\n",
    "print(result)  # Output: 20"
   ]
  }
 ],
 "metadata": {
  "kernelspec": {
   "display_name": "base",
   "language": "python",
   "name": "python3"
  },
  "language_info": {
   "codemirror_mode": {
    "name": "ipython",
    "version": 3
   },
   "file_extension": ".py",
   "mimetype": "text/x-python",
   "name": "python",
   "nbconvert_exporter": "python",
   "pygments_lexer": "ipython3",
   "version": "3.12.7"
  }
 },
 "nbformat": 4,
 "nbformat_minor": 5
}
